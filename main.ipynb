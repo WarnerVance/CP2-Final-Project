{
 "cells": [
  {
   "cell_type": "code",
   "execution_count": null,
   "metadata": {},
   "outputs": [],
   "source": [
    "# Package imports\n",
    "import pandas as pd \n",
    "import numpy as np"
   ]
  },
  {
   "cell_type": "code",
   "execution_count": null,
   "metadata": {},
   "outputs": [],
   "source": [
    "# Loading the data\n",
    "train = pd.read_csv('train.csv')\n",
    "test = pd.read_csv('test.csv')"
   ]
  },
  {
   "cell_type": "code",
   "execution_count": null,
   "metadata": {},
   "outputs": [],
   "source": [
    "len(train.columns)"
   ]
  },
  {
   "cell_type": "code",
   "execution_count": null,
   "metadata": {},
   "outputs": [],
   "source": [
    "train.isnull().sum()"
   ]
  },
  {
   "cell_type": "code",
   "execution_count": null,
   "metadata": {},
   "outputs": [],
   "source": [
    "train.Diet"
   ]
  },
  {
   "cell_type": "code",
   "execution_count": null,
   "metadata": {},
   "outputs": [],
   "source": [
    "train.dtypes"
   ]
  },
  {
   "cell_type": "code",
   "execution_count": null,
   "metadata": {},
   "outputs": [],
   "source": [
    "# I want to to make the continents an integer so I assigned each continent a number\n",
    "train['Continent'] = train['Continent'].map({'Asia': 0, 'Europe': 1, 'Africa': 2, 'South America': 3, 'Oceania': 4, 'North America': 5, 'Other': 6})\n",
    "# The same thing has to be done with Hemisphere\n",
    "train['Hemisphere'] = train['Hemisphere'].map({'Northern': 0, 'Southern': 1,})\n",
    "# Men you're a zero #feminism  \n",
    "train[\"Sex\"] = train[\"Sex\"].map({'Male': 0, 'Female': 1})\n",
    "# Exercise hours per week is an float but I want it to be an integer\n",
    "train[\"Exercise Hours Per Week\"] = train[\"Exercise Hours Per Week\"].astype(int)\n",
    "# Diet is object but I want to map it to an integer\n",
    "train.Diet = train.Diet.map({'Unhealthy': 0, 'Average': 1, 'Healthy': 2})\n",
    "# Sedentary hours per day is an float but I want it to be an integer. \n",
    "train[\"Sedentary Hours Per Day\"] = train[\"Sedentary Hours Per Day\"].astype(int)\n",
    "# The same is true for BMI\n",
    "train[\"BMI\"] = train[\"BMI\"].astype(int)"
   ]
  },
  {
   "cell_type": "code",
   "execution_count": null,
   "metadata": {},
   "outputs": [],
   "source": [
    "# We need to do the same for the test data\n",
    "test['Continent'] = test['Continent'].map({'Asia': 0, 'Europe': 1, 'Africa': 2, 'South America': 3, 'Oceania': 4, 'North America': 5, 'Other': 6})\n",
    "test['Hemisphere'] = test['Hemisphere'].map({'Northern': 0, 'Southern': 1,})\n",
    "test[\"Sex\"] = test[\"Sex\"].map({'Male': 0, 'Female': 1})\n",
    "test[\"Exercise Hours Per Week\"] = test[\"Exercise Hours Per Week\"].astype(int)\n",
    "test.Diet = test.Diet.map({'Unhealthy': 0, 'Average': 1, 'Healthy': 2})\n",
    "test[\"Sedentary Hours Per Day\"] = test[\"Sedentary Hours Per Day\"].astype(int)\n",
    "test[\"BMI\"] = test[\"BMI\"].astype(int)"
   ]
  },
  {
   "cell_type": "code",
   "execution_count": null,
   "metadata": {},
   "outputs": [],
   "source": [
    "train[['Systolic', 'Diastolic']] = train['Blood Pressure'].str.split('/', expand=True)\n",
    "\n",
    "# Convert the new columns to numeric type (optional)\n",
    "train.Systolic = pd.to_numeric(train.Systolic)\n",
    "train.Diastolic = pd.to_numeric(train.Diastolic)"
   ]
  },
  {
   "cell_type": "code",
   "execution_count": null,
   "metadata": {},
   "outputs": [],
   "source": [
    "test[['Systolic', 'Diastolic']] = test['Blood Pressure'].str.split('/', expand=True)\n",
    "\n",
    "# Convert the new columns to numeric type (optional)\n",
    "test.Systolic = pd.to_numeric(test.Systolic)\n",
    "test.Diastolic = pd.to_numeric(test.Diastolic)"
   ]
  },
  {
   "cell_type": "code",
   "execution_count": null,
   "metadata": {},
   "outputs": [],
   "source": [
    "train.dtypes"
   ]
  },
  {
   "cell_type": "code",
   "execution_count": null,
   "metadata": {},
   "outputs": [],
   "source": [
    "features = ['Age', 'Sex', 'Cholesterol',\n",
    "       'Heart Rate', 'Family History', 'Smoking', 'Obesity', 'Exercise Hours Per Week', 'Diet',\n",
    "       'Previous Heart Problems', 'Medication Use', 'Stress Level',\n",
    "       'Sedentary Hours Per Day', 'Triglycerides',\n",
    "       'Physical Activity Days Per Week', 'Sleep Hours Per Day', \"Systolic\", \"Diastolic\", \"Diabetes\", \"Hemisphere\"]\n",
    "train_X = train[features]\n",
    "train_y = train['Heart Attack Risk']\n",
    "len(features)"
   ]
  },
  {
   "cell_type": "code",
   "execution_count": null,
   "metadata": {},
   "outputs": [],
   "source": [
    "# I want to to make the continents an integer so I assigned each continent a number\n",
    "# TODO: This is kinda bad. The continentes should be numbered in some kind of intentional order.\n",
    "test['Continent'] = test['Continent'].map({'Asia': 0, 'Europe': 1, 'Africa': 2, 'South America': 3, 'Oceania': 4, 'North America': 5, 'Other': 6})\n",
    "# The same thing has to be done with Hemisphere\n",
    "test['Hemisphere'] = test['Hemisphere'].map({'Northern': 0, 'Southern': 1,})\n",
    "\n",
    "test_X = test[features]"
   ]
  },
  {
   "cell_type": "markdown",
   "metadata": {},
   "source": [
    "This block of code below is my testing setup"
   ]
  },
  {
   "cell_type": "code",
   "execution_count": null,
   "metadata": {},
   "outputs": [],
   "source": [
    "from sklearn.model_selection import train_test_split\n",
    "X_train, X_test, y_train, y_test = train_test_split(train_X, train_y, test_size=0.2, random_state=1)\n",
    "\n",
    "from sklearn.ensemble import RandomForestClassifier\n",
    "c = RandomForestClassifier(random_state= 5, max_features= 10, n_jobs= -1, max_depth= 10)\n",
    "c.fit(X_train, y_train)\n",
    "\n",
    "predictions = c.predict(X_test)\n",
    "\n",
    "from sklearn.metrics import accuracy_score\n",
    "\n",
    "acc = accuracy_score(y_test, predictions)\n",
    "print(f\"Accuracy: {acc}\")\n",
    "# Higest 0.626248"
   ]
  },
  {
   "cell_type": "code",
   "execution_count": null,
   "metadata": {},
   "outputs": [],
   "source": [
    "# from sklearn.ensemble import RandomForestClassifier\n",
    "# c = RandomForestClassifier(random_state = 1)\n",
    "# c.fit(train_X, train_y)\n",
    "\n",
    "# predictions = c.predict(test_X)\n",
    "# id = test['Patient ID']\n",
    "\n",
    "# predictions = np.array(predictions)\n",
    "# id = np.array(id)\n",
    "# pdf = pd.DataFrame({\"Patient ID\": id, \"Heart Attack Risk\": predictions})\n",
    "# pdf.to_csv(\"submission.csv\", index=False)\n"
   ]
  }
 ],
 "metadata": {
  "kernelspec": {
   "display_name": ".venv",
   "language": "python",
   "name": "python3"
  },
  "language_info": {
   "codemirror_mode": {
    "name": "ipython",
    "version": 3
   },
   "file_extension": ".py",
   "mimetype": "text/x-python",
   "name": "python",
   "nbconvert_exporter": "python",
   "pygments_lexer": "ipython3",
   "version": "3.12.2"
  }
 },
 "nbformat": 4,
 "nbformat_minor": 2
}
