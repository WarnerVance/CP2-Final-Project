{
 "cells": [
  {
   "cell_type": "code",
   "execution_count": 60,
   "metadata": {},
   "outputs": [],
   "source": [
    "# Package imports\n",
    "import pandas as pd \n",
    "import numpy as np"
   ]
  },
  {
   "cell_type": "code",
   "execution_count": 61,
   "metadata": {},
   "outputs": [],
   "source": [
    "# Loading the data\n",
    "train = pd.read_csv('train.csv')\n",
    "test = pd.read_csv('test.csv')"
   ]
  },
  {
   "cell_type": "code",
   "execution_count": 62,
   "metadata": {},
   "outputs": [
    {
     "data": {
      "text/plain": [
       "26"
      ]
     },
     "execution_count": 62,
     "metadata": {},
     "output_type": "execute_result"
    }
   ],
   "source": [
    "len(train.columns)"
   ]
  },
  {
   "cell_type": "code",
   "execution_count": 63,
   "metadata": {},
   "outputs": [
    {
     "data": {
      "text/plain": [
       "Patient ID                         0\n",
       "Age                                0\n",
       "Sex                                0\n",
       "Cholesterol                        0\n",
       "Blood Pressure                     0\n",
       "Heart Rate                         0\n",
       "Diabetes                           0\n",
       "Family History                     0\n",
       "Smoking                            0\n",
       "Obesity                            0\n",
       "Alcohol Consumption                0\n",
       "Exercise Hours Per Week            0\n",
       "Diet                               0\n",
       "Previous Heart Problems            0\n",
       "Medication Use                     0\n",
       "Stress Level                       0\n",
       "Sedentary Hours Per Day            0\n",
       "Income                             0\n",
       "BMI                                0\n",
       "Triglycerides                      0\n",
       "Physical Activity Days Per Week    0\n",
       "Sleep Hours Per Day                0\n",
       "Country                            0\n",
       "Continent                          0\n",
       "Hemisphere                         0\n",
       "Heart Attack Risk                  0\n",
       "dtype: int64"
      ]
     },
     "execution_count": 63,
     "metadata": {},
     "output_type": "execute_result"
    }
   ],
   "source": [
    "train.isnull().sum()"
   ]
  },
  {
   "cell_type": "code",
   "execution_count": 64,
   "metadata": {},
   "outputs": [
    {
     "data": {
      "text/plain": [
       "0       Unhealthy\n",
       "1         Average\n",
       "2         Average\n",
       "3         Healthy\n",
       "4         Healthy\n",
       "          ...    \n",
       "7005    Unhealthy\n",
       "7006      Healthy\n",
       "7007      Average\n",
       "7008    Unhealthy\n",
       "7009      Average\n",
       "Name: Diet, Length: 7010, dtype: object"
      ]
     },
     "execution_count": 64,
     "metadata": {},
     "output_type": "execute_result"
    }
   ],
   "source": [
    "train.Diet"
   ]
  },
  {
   "cell_type": "code",
   "execution_count": 65,
   "metadata": {},
   "outputs": [
    {
     "data": {
      "text/plain": [
       "Patient ID                          object\n",
       "Age                                  int64\n",
       "Sex                                 object\n",
       "Cholesterol                          int64\n",
       "Blood Pressure                      object\n",
       "Heart Rate                           int64\n",
       "Diabetes                             int64\n",
       "Family History                       int64\n",
       "Smoking                              int64\n",
       "Obesity                              int64\n",
       "Alcohol Consumption                  int64\n",
       "Exercise Hours Per Week            float64\n",
       "Diet                                object\n",
       "Previous Heart Problems              int64\n",
       "Medication Use                       int64\n",
       "Stress Level                         int64\n",
       "Sedentary Hours Per Day            float64\n",
       "Income                               int64\n",
       "BMI                                float64\n",
       "Triglycerides                        int64\n",
       "Physical Activity Days Per Week      int64\n",
       "Sleep Hours Per Day                  int64\n",
       "Country                             object\n",
       "Continent                           object\n",
       "Hemisphere                          object\n",
       "Heart Attack Risk                    int64\n",
       "dtype: object"
      ]
     },
     "execution_count": 65,
     "metadata": {},
     "output_type": "execute_result"
    }
   ],
   "source": [
    "train.dtypes"
   ]
  },
  {
   "cell_type": "code",
   "execution_count": 66,
   "metadata": {},
   "outputs": [],
   "source": [
    "# I want to to make the continents an integer so I assigned each continent a number\n",
    "train['Continent'] = train['Continent'].map({'Asia': 0, 'Europe': 1, 'Africa': 2, 'South America': 3, 'Oceania': 4, 'North America': 5, 'Other': 6})\n",
    "# The same thing has to be done with Hemisphere\n",
    "train['Hemisphere'] = train['Hemisphere'].map({'Northern': 0, 'Southern': 1,})\n",
    "# Men you're a zero #feminism  \n",
    "train[\"Sex\"] = train[\"Sex\"].map({'Male': 0, 'Female': 1})\n",
    "# Exercise hours per week is an float but I want it to be an integer\n",
    "train[\"Exercise Hours Per Week\"] = train[\"Exercise Hours Per Week\"].astype(int)\n",
    "# Diet is object but I want to map it to an integer\n",
    "train.Diet = train.Diet.map({'Unhealthy': 0, 'Average': 1, 'Healthy': 2})\n",
    "# Sedentary hours per day is an float but I want it to be an integer. \n",
    "train[\"Sedentary Hours Per Day\"] = train[\"Sedentary Hours Per Day\"].astype(int)\n",
    "# The same is true for BMI\n",
    "train[\"BMI\"] = train[\"BMI\"].astype(int)"
   ]
  },
  {
   "cell_type": "code",
   "execution_count": 67,
   "metadata": {},
   "outputs": [],
   "source": [
    "# We need to do the same for the test data\n",
    "test['Continent'] = test['Continent'].map({'Asia': 0, 'Europe': 1, 'Africa': 2, 'South America': 3, 'Oceania': 4, 'North America': 5, 'Other': 6})\n",
    "test['Hemisphere'] = test['Hemisphere'].map({'Northern': 0, 'Southern': 1,})\n",
    "test[\"Sex\"] = test[\"Sex\"].map({'Male': 0, 'Female': 1})\n",
    "test[\"Exercise Hours Per Week\"] = test[\"Exercise Hours Per Week\"].astype(int)\n",
    "test.Diet = test.Diet.map({'Unhealthy': 0, 'Average': 1, 'Healthy': 2})\n",
    "test[\"Sedentary Hours Per Day\"] = test[\"Sedentary Hours Per Day\"].astype(int)\n",
    "test[\"BMI\"] = test[\"BMI\"].astype(int)"
   ]
  },
  {
   "cell_type": "code",
   "execution_count": 68,
   "metadata": {},
   "outputs": [],
   "source": [
    "# We need to split the blood pressure column into two columns. \n",
    "train[['Systolic', 'Diastolic']] = train['Blood Pressure'].str.split('/', expand=True)\n",
    "\n",
    "# Convert the new columns to numeric type (optional)\n",
    "train.Systolic = pd.to_numeric(train.Systolic)\n",
    "train.Diastolic = pd.to_numeric(train.Diastolic)"
   ]
  },
  {
   "cell_type": "code",
   "execution_count": 69,
   "metadata": {},
   "outputs": [],
   "source": [
    "test[['Systolic', 'Diastolic']] = test['Blood Pressure'].str.split('/', expand=True)\n",
    "\n",
    "# Convert the new columns to numeric type (optional)\n",
    "test.Systolic = pd.to_numeric(test.Systolic)\n",
    "test.Diastolic = pd.to_numeric(test.Diastolic)"
   ]
  },
  {
   "cell_type": "code",
   "execution_count": 70,
   "metadata": {},
   "outputs": [
    {
     "data": {
      "text/plain": [
       "Patient ID                          object\n",
       "Age                                  int64\n",
       "Sex                                  int64\n",
       "Cholesterol                          int64\n",
       "Blood Pressure                      object\n",
       "Heart Rate                           int64\n",
       "Diabetes                             int64\n",
       "Family History                       int64\n",
       "Smoking                              int64\n",
       "Obesity                              int64\n",
       "Alcohol Consumption                  int64\n",
       "Exercise Hours Per Week              int64\n",
       "Diet                                 int64\n",
       "Previous Heart Problems              int64\n",
       "Medication Use                       int64\n",
       "Stress Level                         int64\n",
       "Sedentary Hours Per Day              int64\n",
       "Income                               int64\n",
       "BMI                                  int64\n",
       "Triglycerides                        int64\n",
       "Physical Activity Days Per Week      int64\n",
       "Sleep Hours Per Day                  int64\n",
       "Country                             object\n",
       "Continent                          float64\n",
       "Hemisphere                         float64\n",
       "Heart Attack Risk                    int64\n",
       "Systolic                             int64\n",
       "Diastolic                            int64\n",
       "dtype: object"
      ]
     },
     "execution_count": 70,
     "metadata": {},
     "output_type": "execute_result"
    }
   ],
   "source": [
    "train.dtypes"
   ]
  },
  {
   "cell_type": "code",
   "execution_count": 71,
   "metadata": {},
   "outputs": [
    {
     "data": {
      "text/plain": [
       "20"
      ]
     },
     "execution_count": 71,
     "metadata": {},
     "output_type": "execute_result"
    }
   ],
   "source": [
    "features = ['Age', 'Sex', 'Cholesterol',\n",
    "       'Heart Rate', 'Family History', 'Smoking', 'Obesity', 'Exercise Hours Per Week', 'Diet',\n",
    "       'Previous Heart Problems', 'Medication Use', 'Stress Level',\n",
    "       'Sedentary Hours Per Day', 'Triglycerides',\n",
    "       'Physical Activity Days Per Week', 'Sleep Hours Per Day', \"Systolic\", \"Diastolic\", \"Diabetes\", \"Hemisphere\"]\n",
    "train_X = train[features]\n",
    "train_y = train['Heart Attack Risk']\n",
    "len(features)"
   ]
  },
  {
   "cell_type": "code",
   "execution_count": 72,
   "metadata": {},
   "outputs": [],
   "source": [
    "# I want to to make the continents an integer so I assigned each continent a number\n",
    "# TODO: This is kinda bad. The continents should be numbered in some kind of intentional order.\n",
    "test['Continent'] = test['Continent'].map({'Asia': 0, 'Europe': 1, 'Africa': 2, 'South America': 3, 'Oceania': 4, 'North America': 5, 'Other': 6})\n",
    "# The same thing has to be done with Hemisphere\n",
    "test['Hemisphere'] = test['Hemisphere'].map({'Northern': 0, 'Southern': 1,})\n",
    "\n",
    "test_X = test[features]"
   ]
  },
  {
   "cell_type": "markdown",
   "metadata": {},
   "source": [
    "This block of code below is my testing setup"
   ]
  },
  {
   "cell_type": "code",
   "execution_count": 73,
   "metadata": {},
   "outputs": [
    {
     "name": "stdout",
     "output_type": "stream",
     "text": [
      "Accuracy: 0.6283880171184023\n"
     ]
    },
    {
     "name": "stderr",
     "output_type": "stream",
     "text": [
      "[Parallel(n_jobs=-1)]: Using backend ThreadingBackend with 8 concurrent workers.\n",
      "[Parallel(n_jobs=-1)]: Done  34 tasks      | elapsed:    0.0s\n",
      "[Parallel(n_jobs=-1)]: Done 100 out of 100 | elapsed:    0.1s finished\n",
      "[Parallel(n_jobs=8)]: Using backend ThreadingBackend with 8 concurrent workers.\n",
      "[Parallel(n_jobs=8)]: Done  34 tasks      | elapsed:    0.0s\n",
      "[Parallel(n_jobs=8)]: Done 100 out of 100 | elapsed:    0.0s finished\n"
     ]
    }
   ],
   "source": [
    "from sklearn.model_selection import train_test_split\n",
    "X_train, X_test, y_train, y_test = train_test_split(train_X, train_y, test_size=0.2, random_state=1)\n",
    "\n",
    "from sklearn.ensemble import RandomForestClassifier\n",
    "c = RandomForestClassifier(random_state= 5, n_jobs= -1, max_depth= 8, criterion= 'gini', min_samples_split = 10, verbose= 1, warm_start= True, max_samples= 24)\n",
    "c.fit(X_train, y_train)\n",
    "\n",
    "predictions = c.predict(X_test)\n",
    "\n",
    "from sklearn.metrics import accuracy_score\n",
    "\n",
    "acc = accuracy_score(y_test, predictions)\n",
    "print(f\"Accuracy: {acc}\")\n",
    "# Highest 0.6283880171184023"
   ]
  },
  {
   "cell_type": "code",
   "execution_count": 74,
   "metadata": {},
   "outputs": [],
   "source": [
    "# from sklearn.ensemble import RandomForestClassifier\n",
    "# c = RandomForestClassifier(random_state = 1)\n",
    "# c.fit(train_X, train_y)\n",
    "\n",
    "# predictions = c.predict(test_X)\n",
    "# id = test['Patient ID']\n",
    "\n",
    "# predictions = np.array(predictions)\n",
    "# id = np.array(id)\n",
    "# pdf = pd.DataFrame({\"Patient ID\": id, \"Heart Attack Risk\": predictions})\n",
    "# pdf.to_csv(\"submission.csv\", index=False)\n"
   ]
  }
 ],
 "metadata": {
  "kernelspec": {
   "display_name": ".venv",
   "language": "python",
   "name": "python3"
  },
  "language_info": {
   "codemirror_mode": {
    "name": "ipython",
    "version": 3
   },
   "file_extension": ".py",
   "mimetype": "text/x-python",
   "name": "python",
   "nbconvert_exporter": "python",
   "pygments_lexer": "ipython3",
   "version": "3.12.2"
  }
 },
 "nbformat": 4,
 "nbformat_minor": 2
}
